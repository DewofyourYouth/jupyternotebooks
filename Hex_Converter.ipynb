{
 "cells": [
  {
   "cell_type": "markdown",
   "metadata": {},
   "source": [
    "### RGB to HEX Conversion"
   ]
  },
  {
   "cell_type": "code",
   "execution_count": 1,
   "metadata": {},
   "outputs": [
    {
     "name": "stdout",
     "output_type": "stream",
     "text": [
      "#d1d4d3\n"
     ]
    }
   ],
   "source": [
    "def get_hex(red, green, blue):\n",
    "    rgb = [red, green, blue]\n",
    "    hex_val = '#'\n",
    "    for color in rgb:\n",
    "        hex_val += hex(color)[2:]\n",
    "        \n",
    "    print(hex_val)\n",
    "    \n",
    "get_hex(209, 212, 211)"
   ]
  },
  {
   "cell_type": "code",
   "execution_count": 7,
   "metadata": {},
   "outputs": [
    {
     "name": "stdout",
     "output_type": "stream",
     "text": [
      "#ffaabb\n"
     ]
    }
   ],
   "source": [
    "get_hex(255,170,187)"
   ]
  },
  {
   "cell_type": "markdown",
   "metadata": {},
   "source": [
    "### HEX to RGB Conversion"
   ]
  },
  {
   "cell_type": "code",
   "execution_count": 2,
   "metadata": {},
   "outputs": [],
   "source": [
    "def get_rgb(hex_val): # needs to be provided a hex color value as a string\n",
    "    if len(hex_val) == 3:\n",
    "        hex_val = hex_val[0] * 2 + hex_val[1] * 2 + hex_val[2] * 2\n",
    "    hex_conversion = {'a': 10, 'b': 11, 'c': 12, 'd': 13, 'e': 14, 'f': 15 }\n",
    "    rgb = ['Red:  ', 'Green:', 'Blue: ']\n",
    "    i = 1\n",
    "    j = 0\n",
    "    for char in hex_val:\n",
    "        try:\n",
    "            int(char)\n",
    "            num = int(char)\n",
    "        except ValueError:\n",
    "            if char not in hex_conversion:\n",
    "                print('\\n<--- invalid hex code ---->'.upper())\n",
    "                print('\\n      \\\\ /')\n",
    "                print('      * *')\n",
    "                print('       < ')\n",
    "                print('\\n       ~ \\n')\n",
    "                print('<--- invalid hex code ---->'.upper())\n",
    "                break\n",
    "            num = hex_conversion[char.lower()]\n",
    "        if i % 2 != 0:\n",
    "            num1 = num * 16\n",
    "        else:\n",
    "            print('{} {}'.format(rgb[j], num + num1))\n",
    "            j = j + 1\n",
    "        i = i + 1\n",
    "            \n",
    "\n",
    "def convert_hex_to_rgb():\n",
    "    user_hex = input('Type a hex color value (w/o hash): ')\n",
    "    get_rgb(user_hex)"
   ]
  },
  {
   "cell_type": "code",
   "execution_count": 3,
   "metadata": {},
   "outputs": [
    {
     "name": "stdout",
     "output_type": "stream",
     "text": [
      "Red:   209\n",
      "Green: 212\n",
      "Blue:  211\n"
     ]
    }
   ],
   "source": [
    "get_rgb('d1d4d3')"
   ]
  },
  {
   "cell_type": "code",
   "execution_count": 4,
   "metadata": {},
   "outputs": [
    {
     "name": "stdout",
     "output_type": "stream",
     "text": [
      "Type a hex color value (w/o hash): rrr\n",
      "\n",
      "<--- INVALID HEX CODE ---->\n",
      "\n",
      "      \\ /\n",
      "      * *\n",
      "       < \n",
      "\n",
      "       ~ \n",
      "\n",
      "<--- INVALID HEX CODE ---->\n"
     ]
    }
   ],
   "source": [
    "convert_hex_to_rgb()"
   ]
  },
  {
   "cell_type": "code",
   "execution_count": 5,
   "metadata": {},
   "outputs": [
    {
     "name": "stdout",
     "output_type": "stream",
     "text": [
      "Type a hex color value (w/o hash): fab\n",
      "Red:   255\n",
      "Green: 170\n",
      "Blue:  187\n"
     ]
    }
   ],
   "source": [
    "convert_hex_to_rgb()"
   ]
  },
  {
   "cell_type": "code",
   "execution_count": 6,
   "metadata": {},
   "outputs": [
    {
     "name": "stdout",
     "output_type": "stream",
     "text": [
      "hex code here (w/o hash): d1d4d3\n",
      "Red:   209\n",
      "Green: 212\n",
      "Blue:  211\n"
     ]
    }
   ],
   "source": [
    "hex_val = input('hex code here (w/o hash): ')\n",
    "get_rgb(hex_val)"
   ]
  }
 ],
 "metadata": {
  "kernelspec": {
   "display_name": "Python 3",
   "language": "python",
   "name": "python3"
  },
  "language_info": {
   "codemirror_mode": {
    "name": "ipython",
    "version": 3
   },
   "file_extension": ".py",
   "mimetype": "text/x-python",
   "name": "python",
   "nbconvert_exporter": "python",
   "pygments_lexer": "ipython3",
   "version": "3.6.3"
  }
 },
 "nbformat": 4,
 "nbformat_minor": 2
}
