{
 "cells": [
  {
   "cell_type": "markdown",
   "metadata": {},
   "source": [
    "# Time Calculator\n",
    "\n",
    "This calculates the times taken from [mytimestation.com](https://www.mytimestation.com/) and outputs the following:\n",
    "\n",
    "1. Average time worked everyday\n",
    "2. Total hours worked\n",
    "3. Each day converted to decimal form"
   ]
  },
  {
   "cell_type": "code",
   "execution_count": 17,
   "metadata": {},
   "outputs": [
    {
     "name": "stdout",
     "output_type": "stream",
     "text": [
      "Average workday: 8.64285714286\n",
      "Total hours: 182.183333333\n",
      "\n",
      "\n",
      "Indivual workday amounts in decimal form: [  7.91666667  10.01666667   9.81666667   9.71666667   9.55         0.           0.\n",
      "   7.76666667   8.73333333   8.86666667   8.63333333   8.           0.68333333\n",
      "   0.           7.4          8.45         7.15         7.7          8.16666667\n",
      "   0.           0.           0.           7.96666667   8.3          9.85\n",
      "   9.13333333   0.           0.           9.73333333   8.63333333   0.        ]\n"
     ]
    }
   ],
   "source": [
    "import numpy as np\n",
    "from numpy import array\n",
    "\n",
    "times = [\n",
    "    \"7:55\",\n",
    " \"10:01\",\n",
    " \"9:49\",\n",
    " \"9:43\",\n",
    " \"9:33\",\n",
    " \"0:00\",\n",
    " \"0:00\",\n",
    " \"7:46\",\n",
    " \"8:44\",\n",
    " \"8:52\",\n",
    " \"8:38\",\n",
    " \"8:00\",\n",
    " \"0:41\",\n",
    " \"0:00\",\n",
    " \"7:24\",\n",
    " \"8:27\",\n",
    " \"7:09\",\n",
    " \"7:42\",\n",
    " \"8:10\",\n",
    " \"0:00\",\n",
    " \"0:00\",\n",
    " \"0:00\",\n",
    " \"7:58\",\n",
    " \"8:18\",\n",
    " \"9:51\",\n",
    " \"9:08\",\n",
    " \"0:00\",\n",
    " \"0:00\",\n",
    " \"9:44\",\n",
    " \"8:38\",\n",
    " \"0:00\"\n",
    "]\n",
    "\n",
    "minutes = array([int(min.split(':')[1]) for min in times])\n",
    "np_hours = array([int(hr.split(':')[0]) for hr in times])\n",
    "np_minutes = array([min/60 for min in minutes])\n",
    "np_time = np.add(np_hours, np_minutes)\n",
    "np_days = array([a for a in np_time if a > 6])\n",
    "\n",
    "print(\"Average workday: \" + str(np.mean(np_days)) )\n",
    "print(\"Total hours: \" + str(np.sum(np_time)) )\n",
    "print(\"\\n\\nIndivual workday amounts in decimal form: \" + str(np_time))\n",
    "\n",
    "\n",
    "\n"
   ]
  },
  {
   "cell_type": "code",
   "execution_count": null,
   "metadata": {
    "collapsed": true
   },
   "outputs": [],
   "source": []
  },
  {
   "cell_type": "code",
   "execution_count": null,
   "metadata": {
    "collapsed": true
   },
   "outputs": [],
   "source": []
  }
 ],
 "metadata": {
  "kernelspec": {
   "display_name": "Python 3",
   "language": "python",
   "name": "python3"
  },
  "language_info": {
   "codemirror_mode": {
    "name": "ipython",
    "version": 3
   },
   "file_extension": ".py",
   "mimetype": "text/x-python",
   "name": "python",
   "nbconvert_exporter": "python",
   "pygments_lexer": "ipython3",
   "version": "3.6.3"
  }
 },
 "nbformat": 4,
 "nbformat_minor": 2
}
